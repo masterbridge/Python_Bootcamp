{
 "cells": [
  {
   "cell_type": "markdown",
   "metadata": {},
   "source": [
    "# Module 1:"
   ]
  },
  {
   "cell_type": "markdown",
   "metadata": {},
   "source": [
    "# Overview :\n",
    "\n",
    "## Why is Python is the most used language?\n",
    "\n",
    "Due to its elegance and simplicity\n",
    "Most companies like Dropbox, Google, Quora, Mozilla, Hewlett-Packard, Qualcomm, IBM, and Cisco have implemented Python\n",
    "Python can be used for :\n",
    "1. Web Application Development\n",
    "2. Scientific and Numeric Computing\n",
    "3. Desktop Application\n",
    "4. Software Development\n",
    "5. Business Application\n",
    "6. Data Science\n",
    "\n",
    "## Python 2 or Python 3?\n",
    "\n",
    "While choosing python, we need to decide between two options - Python 2.7 or Python 3.\n",
    "So when to use which version of Python?\n",
    "\n",
    "Use Python 2.7 if :\n",
    "The stability requirements of your software would be impacted.\n",
    "Software that you depend on requires it\n",
    "\n",
    "For all other cases use Python 3\n"
   ]
  },
  {
   "attachments": {},
   "cell_type": "markdown",
   "metadata": {},
   "source": [
    "## Installing Python 3 :\n",
    "\n",
    "### On windows/ MacOS :\n",
    "\n",
    "Step 1 : Download Python3 Installer from www.python.org\n",
    "\n",
    "Step 2 : Run the Installer\n",
    "(Note : You want to be sure to check the box that says Add Python 3.x to PATH as shown to ensure that the interpreter will be placed in your execution path)\n"
   ]
  },
  {
   "cell_type": "markdown",
   "metadata": {},
   "source": [
    "## About Python :\n",
    "\n",
    "* Python is an interpreted high-level programming language for general-purpose programming\n",
    "\n",
    "* Python features a dynamic type system and automatic memory management. It supports multiple programming paradigms, including object-oriented, imperative, functional and procedural, and has a large and comprehensive standard library.\n",
    "\n",
    "The history of Python starts with ABC. ABC is a general-purpose programming language and programming environment\n",
    "Python was conceptualized in the late 1980s by Guido van Rossum while working on ABC\n",
    "\n",
    "### Why name Python?\n",
    "\n",
    "Creator was a big fan of Monty Python's Flying Circus\n",
    "\n",
    "* Python is a high level programming language like C++, PHP, and Java. \n",
    "* There are also low-level languages, sometimes referred to as machine languages or assembly languages. a\n",
    "* Loosely speaking, computers can only execute programs written in low-level language. Thus, programs written in a high-level language have to be processed before they can run. This extra processing takes some time, which is a small disadvantage of high-level languages.\n",
    "* But the advantages are enormous. First, it is much easier to program in a high-level language. Programs written in a high-level language take less time to write, they are shorter and easier to read, and they are more likely to be correct. \n",
    "* Second, high-level languages are portable, meaning that they can run on different kinds of computers with few or no modifications. Low-level programs can run on only one kind of computer and have to be rewritten to run on another\n"
   ]
  },
  {
   "attachments": {},
   "cell_type": "markdown",
   "metadata": {},
   "source": [
    "## Interpreter VS Compiler\n",
    "\n",
    "\n",
    "* An interpreter reads a high-level program and executes it, meaning that it does what the program says. It processes the program a little at a time, alternately reading lines and performing computations\n",
    "* A compiler reads the program and translates it completely before the program starts running. In this case, the high-level program is called the source code, and the translated program is called the object code or the executable. Once a program is compiled, you can execute it repeatedly without further translation.\n",
    "* Many modern languages use both processes. They are first compiled into a lower level language, called bytecode, and then interpreted by a program called a virtual machine. Python uses both processes, but because of the way programmers interact with it, it is usually considered an interpreted language.\n"
   ]
  },
  {
   "cell_type": "markdown",
   "metadata": {},
   "source": [
    "## Installing Jupyter Notebook on Windows :\n",
    "\n",
    "* We strongly recommend installing Python and Jupyter using the Anaconda Distribution, which includes Python, the Jupyter Notebook, and other commonly used packages for scientific computing and data science.\n",
    "\n",
    "* First, download Anaconda from https://www.anaconda.com/distribution/. We recommend downloading Anaconda’s latest Python 3 version.\n",
    "\n",
    "* Second, install the version of Anaconda which you downloaded, following the instructions on the download page.\n",
    "\n",
    "* Congratulations, you have installed Jupyter Notebook! To run the notebook, run the following command at the Terminal (Mac/Linux) or Command Prompt (Windows):\n",
    "\n",
    "`jupyter notebook`"
   ]
  },
  {
   "cell_type": "markdown",
   "metadata": {},
   "source": [
    "## Ways to run code on Python:\n",
    "\n",
    "#### Interpreter/shell Mode :\n",
    "\n",
    "In shell mode, you type Python statements into the Python shell and the interpreter immediately prints the result\n",
    "\n",
    "`python3`\n",
    "\n",
    "`Python 3.7.0 (default, Oct  2 2018, 09:20:07) `\n",
    "\n",
    "`[Clang 10.0.0 (clang-1000.11.45.2)] on darwin`\n",
    "\n",
    "`Type \"help\", \"copyright\", \"credits\" or \"license\" for more information.`\n",
    "\n",
    "`>>> print(1 + 1)`\n",
    "\n",
    "`2`\n",
    "\n",
    "The first line of this example is the command that starts the Python interpreter at a Unix command prompt. \n",
    "The next three lines are messages from the interpreter. The fourth line starts with >>>, which is the Python prompt. The interpreter uses the prompt to indicate that it is ready for instructions. We typed print 1 + 1, and the interpreter replied 2\n"
   ]
  },
  {
   "cell_type": "code",
   "execution_count": 53,
   "metadata": {
    "scrolled": true
   },
   "outputs": [
    {
     "name": "stdout",
     "output_type": "stream",
     "text": [
      "15\n"
     ]
    }
   ],
   "source": [
    "print(25-10)"
   ]
  },
  {
   "cell_type": "code",
   "execution_count": 54,
   "metadata": {},
   "outputs": [],
   "source": [
    "num1 = 10"
   ]
  },
  {
   "cell_type": "code",
   "execution_count": 55,
   "metadata": {},
   "outputs": [],
   "source": [
    "num2 = 20"
   ]
  },
  {
   "cell_type": "code",
   "execution_count": 56,
   "metadata": {},
   "outputs": [],
   "source": [
    "add = num1+num2"
   ]
  },
  {
   "cell_type": "code",
   "execution_count": 57,
   "metadata": {},
   "outputs": [
    {
     "name": "stdout",
     "output_type": "stream",
     "text": [
      "30\n"
     ]
    }
   ],
   "source": [
    "print(add)"
   ]
  },
  {
   "cell_type": "markdown",
   "metadata": {},
   "source": [
    "#### Script mode :\n",
    "\n",
    "You can write a program in a file and use the interpreter to execute the contents of the file. Such a file is called a script. For example, we used a text editor to create a file named firstprogram.py with the following contents\n",
    "\n",
    "num1 = 10\n",
    "num2 = 20\n",
    "add = num1+num2\n",
    "print(add)\n",
    "\n",
    "* In Jupyter notebook to run your scripts use %load to add all the content of your file to notebook\n",
    "\n",
    "To execute the program, we have to tell the interpreter the name of the script:\n",
    "\n",
    "On terminal/command prompt -> `python3 firstprogram.py`\n",
    "\n",
    "Answer -> `30`\n",
    "\n",
    "\n",
    "NOTE: By convention, files that contain Python programs have names that end with .py.\n",
    "\n"
   ]
  },
  {
   "cell_type": "code",
   "execution_count": 6,
   "metadata": {},
   "outputs": [
    {
     "name": "stdout",
     "output_type": "stream",
     "text": [
      "30\n"
     ]
    }
   ],
   "source": [
    "# %load abc.py\n",
    "num1 = 10\n",
    "num2 = 20\n",
    "add = num1+num2\n",
    "print(add)\n"
   ]
  },
  {
   "cell_type": "markdown",
   "metadata": {},
   "source": [
    "<b>NOTE : Working in shell mode is convenient for testing short bits of code because you get immediate feedback. Think of it as scratch paper used to help you work out problems. Anything longer than a few lines should be put into a script.</b>\n"
   ]
  },
  {
   "cell_type": "markdown",
   "metadata": {},
   "source": [
    "## Why Python?\n",
    "\n",
    "* Python is object-oriented - Structure supports such concepts as polymorphism, operator overloading, and multiple inheritance\n",
    "* It's free (open source) - Downloading and installing Python is free and easy. Source code is easily accessible. Free doesn't mean unsupported!  Online Python community is huge\n",
    "* It's portable - Python runs virtually every major platform used today. As long as you have a compatible Python interpreter installed, Python programs will run in exactly the same manner, irrespective of platform\n",
    "* It's powerful - Dynamic typing. Built-in types and tools. Library utilities. Third party utilities (e.g. Numeric, NumPy, SciPy). Automatic memory management.\n",
    "* It's mixable - Python can be linked to components written in other languages easily\n",
    "* Linking to fast, compiled code is useful to computationally intensive problems\n",
    "* Python is good for code steering and for merging multiple programs in otherwise conflicting languages\n",
    "* Python/C integration is quite common\n",
    "* It's easy to use - Rapid turnaround: no intermediate compile and link steps as in C or C++. Python programs are compiled automatically to an intermediate form called bytecode, which the interpreter then reads. This gives Python the development speed of an interpreter without the performance loss inherent   in purely interpreted languages\n",
    "* It's easy to learn - Structure and syntax are pretty intuitive and easy to grasp\n"
   ]
  },
  {
   "cell_type": "markdown",
   "metadata": {},
   "source": [
    "## Syntax Rules\n",
    "\n",
    "* Python is case sensitive. Hence a variable with name masterbridge is not same as MasterBridge\n",
    "* In python, there is no command terminator, which means no semicolon ; or anything. So if you want to print something as output, all you have to do is:\n",
    "\n",
    "`print(\"Hello, World!\")`\n",
    "\n",
    "* In one line only a single executable statement should be written and the line change act as command terminator in python. To write two separate executable statements in a single line, you should use a semicolon ; to separate the commands. For example,\n",
    "\n",
    "`print(\"Hello, World!\") ; print (\"This is second line\")`\n",
    "\n",
    "* Blank lines in between a program are ignored by python.\n",
    "\n",
    "* In python, you can write comments in your program using a # at the start. A comment is ignored while the python script is executed.\n"
   ]
  },
  {
   "cell_type": "code",
   "execution_count": 7,
   "metadata": {},
   "outputs": [],
   "source": [
    "#This is a single line comment"
   ]
  },
  {
   "cell_type": "markdown",
   "metadata": {},
   "source": [
    "* Code Indentation: This is the most important rule of python programming. In programming language like Java, C or C++, generally curly brackets { } are used to define a code block, but python doesn't use brackets, then how does python knows where a particular code block ends. Well python used indentation for this."
   ]
  },
  {
   "cell_type": "code",
   "execution_count": 8,
   "metadata": {},
   "outputs": [
    {
     "name": "stdout",
     "output_type": "stream",
     "text": [
      "Yes, I am in if block\n"
     ]
    }
   ],
   "source": [
    "if True:\n",
    "    #This is inside if statement\n",
    "    print('Yes, I am in if block')"
   ]
  },
  {
   "cell_type": "markdown",
   "metadata": {},
   "source": [
    "## Data Types and Variables :\n",
    "\n",
    "### Variables :\n",
    "\n",
    "A variable is supposed to have a name. There are some rules to assign a name to the variable.\n",
    "\n",
    "1. The variable name can consist of alphabet(s), number(s) and underscore(s) only.\n",
    "2. The first character in variable name cannot be a number. \n",
    "\n",
    "Hence i-am-variable, variable!, 1variable, #variable, are all invalid variable names. While i_am_variable, variable, variable1, _variable, are all valid names.\n"
   ]
  },
  {
   "cell_type": "code",
   "execution_count": 9,
   "metadata": {},
   "outputs": [],
   "source": [
    "add_nums = 10"
   ]
  },
  {
   "cell_type": "markdown",
   "metadata": {},
   "source": [
    "#### Keywords :\n",
    "Keywords define the language’s rules and structure, and they cannot be used as variable names.\n",
    "Python has thirty-one keywords some of them are:\n",
    " * and\n",
    " * as\n",
    " * assert\n",
    " * break\n",
    " * class\n",
    " * continue\n",
    " * def\n",
    " * del\n"
   ]
  },
  {
   "cell_type": "markdown",
   "metadata": {},
   "source": [
    "### Data Types :\n",
    "\n",
    "#### Numbers :\n",
    "There are four built-in data types for numbers:\n",
    "1. Integer (normal, octal, hex)\n",
    "2. Long integers (unlimited size)\n",
    "3. Floating-point numbers (e.g. 34.35)\n",
    "4. Complex numbers (e.g. 5 + 3j)\n",
    "\n",
    "#### Sequence :\n",
    "\n",
    "1. Strings :\n",
    "Strings are marked by quotes:\n",
    " * Wrapped with the single-quote ( ' ) character: \n",
    " `'string’ `\n",
    " * Wrapped with the double-quote ( \" ) character: \n",
    " `“String with double quote“`\n",
    " * Wrapped with three characters, using either single-quote or double-quote:\n",
    "\n",
    " `'''A String in triple quotes can extend \n",
    " over multiple lines like this one, and can contain\n",
    " 'single' and \"double\" quotes.'‘’`\n",
    "\n",
    "2. List :\n",
    " * They are defined by square brackets\n",
    " * Elements in list are mutable\n",
    " * List has indexing"
   ]
  },
  {
   "cell_type": "code",
   "execution_count": null,
   "metadata": {
    "scrolled": true
   },
   "outputs": [],
   "source": [
    "l = [1,2,3,4,'abc']\n",
    "print(l[3])      #Index\n",
    "\n",
    "l[2] = 20        #Mutable\n",
    "print(l)"
   ]
  },
  {
   "cell_type": "markdown",
   "metadata": {},
   "source": [
    "3. Tuple :\n",
    " * They are defined by round brackets\n",
    " * Elements in tuple are immutable\n",
    " * Tuple has indexing"
   ]
  },
  {
   "cell_type": "code",
   "execution_count": 11,
   "metadata": {},
   "outputs": [
    {
     "name": "stdout",
     "output_type": "stream",
     "text": [
      "4\n"
     ]
    },
    {
     "ename": "TypeError",
     "evalue": "'tuple' object does not support item assignment",
     "output_type": "error",
     "traceback": [
      "\u001b[0;31m---------------------------------------------------------------------------\u001b[0m",
      "\u001b[0;31mTypeError\u001b[0m                                 Traceback (most recent call last)",
      "\u001b[0;32m<ipython-input-11-3e7151571102>\u001b[0m in \u001b[0;36m<module>\u001b[0;34m\u001b[0m\n\u001b[1;32m      2\u001b[0m \u001b[0mprint\u001b[0m\u001b[0;34m(\u001b[0m\u001b[0mt\u001b[0m\u001b[0;34m[\u001b[0m\u001b[0;36m3\u001b[0m\u001b[0;34m]\u001b[0m\u001b[0;34m)\u001b[0m     \u001b[0;31m#index\u001b[0m\u001b[0;34m\u001b[0m\u001b[0;34m\u001b[0m\u001b[0m\n\u001b[1;32m      3\u001b[0m \u001b[0;34m\u001b[0m\u001b[0m\n\u001b[0;32m----> 4\u001b[0;31m \u001b[0mt\u001b[0m\u001b[0;34m[\u001b[0m\u001b[0;36m2\u001b[0m\u001b[0;34m]\u001b[0m \u001b[0;34m=\u001b[0m \u001b[0;36m20\u001b[0m\u001b[0;34m\u001b[0m\u001b[0;34m\u001b[0m\u001b[0m\n\u001b[0m",
      "\u001b[0;31mTypeError\u001b[0m: 'tuple' object does not support item assignment"
     ]
    }
   ],
   "source": [
    "t = (1,2,3,4,'abc')\n",
    "print(t[3])     #index\n",
    "\n",
    "t[2] = 20"
   ]
  },
  {
   "cell_type": "markdown",
   "metadata": {},
   "source": [
    "#### Set :\n",
    "\n",
    "Set is an unordered collection of values of any type with no duplicate entry. It is immutable. Set is defined by values separated by comma inside braces { }\n",
    "\n",
    "Example :\n",
    "`a = {5,2,3,1,4}`\n",
    "\n",
    "#### Dictionary :\n",
    "\n",
    "This data type is unordered and mutable. Dictionaries fall under Mappings.\n",
    "\n",
    "Dictionaries pretty much like our dictionary can store any number of python objects. They store a key-value pair, which is accessed using the key. Dictionary is enclosed in curly brackets { }.\n",
    "\n",
    "`d = {1:'value','key':2}`\n"
   ]
  },
  {
   "cell_type": "markdown",
   "metadata": {},
   "source": [
    "### Find type of a variable:\n",
    "\n",
    "If you are not sure what type a value has, the interpreter can tell you with type() function.\n"
   ]
  },
  {
   "cell_type": "code",
   "execution_count": null,
   "metadata": {},
   "outputs": [],
   "source": [
    "l = [1,2,43,45]\n",
    "type(l)"
   ]
  },
  {
   "cell_type": "markdown",
   "metadata": {},
   "source": [
    "## Operators :\n",
    "\n",
    "For this, take two numbers and start performing all the operations:\n",
    "\n",
    "<b>1. Arithmetic Operators :</b>\n",
    "\n",
    " * Add (+)\n",
    " * Subtract (-)\n",
    " * Divide (/)\n",
    " * Multiply (\\*)\n",
    " * Mod (%)\n",
    " * Floor division (//)\n",
    " * Exponent (**)\n",
    "\n",
    "\n",
    "<b>2. Comparison Operator :</b>\n",
    "\n",
    " * Greater that - True if left operand is greater than the right (>)\n",
    " * Less that - True if left operand is less than the right (<)\n",
    " * Equal to - True if both operands are equal (==)\n",
    " * Not equal to - True if operands are not equal (!=)\n",
    " * Greater than or equal to - True if left operand is greater than or equal to the right (>=)\n",
    " * Less than or equal to - True if left operand is less than or equal to the right (<=)\n",
    "\n",
    "\n",
    "<b>3. Logical Operators :</b>\n",
    "\n",
    " * and - True if both the operands are true\n",
    " * or - True if either of the operands is true\n",
    " * not - True if operand is false (complements the operand)\n"
   ]
  },
  {
   "cell_type": "markdown",
   "metadata": {},
   "source": [
    "<b>4. Bitwise Operator :</b>\n",
    "\n",
    "Take x = 12 and y = 15\n",
    "\n",
    " * & - Bitwise AND (x & y) \n",
    " * | - Bitwise OR (x | y)\n",
    " * ^ - Bitwise XOR (x ^ y)\n",
    " * \\>> - Bitwise right shift (x>> 2)\n",
    " * << - Bitwise left shift (x<< 2)\n",
    "    \n",
    "<b>5. Special Operators :</b>\n",
    "\n",
    "Python language offers some special type of operators like the identity operator or the membership operator\n",
    "\n",
    "<b>Identity Operator :</b>\n",
    "\n",
    " * is - True if the operands are identical (refer to the same object)\n",
    " * is not - True if the operands are not identical (do not refer to the same object)\n",
    "\n",
    "<b>Membership Operator :</b>\n",
    "\n",
    " * in - True if value/variable is found in the sequence\n",
    " * not in - True if value/variable is not found in the sequence"
   ]
  },
  {
   "cell_type": "markdown",
   "metadata": {},
   "source": [
    "### Exercise :\n",
    "\n",
    "<b>Calculate area of a triangle</b>\n",
    "\n",
    "If a, b and c are three sides of a triangle. Then,\n",
    "s = (a+b+c)/2\n",
    "area = √(s(s-a)*(s-b)*(s-c))\n",
    "\n",
    "\n",
    "<b>What is the output of the following code :</b>\n",
    "\n",
    "`print 9//2`\n",
    "\n",
    "<b>Which operator is overloaded by the or() function :</b>\n",
    "\n",
    " (A) ||\n",
    " (B) |\n",
    " (C) //\n",
    " (D) /\n",
    "\n",
    "<b>Output of following code:</b>\n",
    "\n",
    "```while i < 3: \n",
    "       print (i) \n",
    "       I++ \n",
    "       print (i+1)```\n"
   ]
  },
  {
   "cell_type": "markdown",
   "metadata": {},
   "source": [
    "## Some important functions with Data types:\n",
    "\n",
    "* List and Tuple : \n",
    "\n",
    "min() : Returns lowest value\n",
    "\n",
    "max() : Returns highest value\n",
    "\n",
    "sum() : Returns the sum of all elements\n",
    "\n",
    "len() : Used to find length of the list"
   ]
  },
  {
   "cell_type": "code",
   "execution_count": 48,
   "metadata": {},
   "outputs": [
    {
     "name": "stdout",
     "output_type": "stream",
     "text": [
      "4\n",
      "[1, 2, 3, 4]\n"
     ]
    }
   ],
   "source": [
    "l = [2,1,3,4]\n",
    "print(len(l))\n"
   ]
  },
  {
   "cell_type": "code",
   "execution_count": 50,
   "metadata": {},
   "outputs": [
    {
     "name": "stdout",
     "output_type": "stream",
     "text": [
      "10\n"
     ]
    }
   ],
   "source": [
    "t = (2,4,1,3)\n",
    "print(sum(t))"
   ]
  },
  {
   "cell_type": "markdown",
   "metadata": {},
   "source": [
    "* Strings :\n",
    "\n",
    "lower() : Return all lowercase\n",
    "\n",
    "upper() : Returns string with all uppercase"
   ]
  },
  {
   "cell_type": "code",
   "execution_count": 51,
   "metadata": {},
   "outputs": [
    {
     "name": "stdout",
     "output_type": "stream",
     "text": [
      "ABCD\n"
     ]
    }
   ],
   "source": [
    "s = 'abcd'\n",
    "\n",
    "print(s.upper())"
   ]
  },
  {
   "cell_type": "markdown",
   "metadata": {},
   "source": [
    "# Module 2 :"
   ]
  },
  {
   "cell_type": "markdown",
   "metadata": {},
   "source": [
    "## Input and Output functions :\n",
    "\n",
    "Python provides numerous built-in functions that are readily available to us at the Python prompt. Functions like input() and print() are widely used for standard input and output operations respectively\n",
    "\n",
    "<b>Output using print() function :</b>\n",
    "\n",
    "print() function to output data to the standard output device (screen) or a file\n",
    "\n",
    "<b>Syntax:</b>\n",
    "\n",
    "print(*objects, sep=' ', end='\\n', file=sys.stdout)\n",
    "\n",
    "print() Parameters:\n",
    "\n",
    "* objects - object to the printed. * indicates that there may be more than one object\n",
    "* sep - objects are separated by sep. Default value: ' '\n",
    "* end - end is printed at last\n",
    "* file - must be an object with write(string) method. If omitted it, sys.stdout will be used which prints objects on the screen.\n",
    "\n",
    "Example : "
   ]
  },
  {
   "cell_type": "code",
   "execution_count": null,
   "metadata": {},
   "outputs": [],
   "source": [
    "print('Welcome to Master Bridge!')"
   ]
  },
  {
   "cell_type": "code",
   "execution_count": null,
   "metadata": {},
   "outputs": [],
   "source": [
    "a = 5\n",
    "print('The value of a is', a)"
   ]
  },
  {
   "cell_type": "markdown",
   "metadata": {},
   "source": [
    "<b>Input Function :</b>\n",
    "\n",
    "There are two built-in functions in Python for getting keyboard input \n",
    "\n",
    "Every input, with input() function, is stored in the form of a string during the input\n",
    "eval(input()) method is not capable of handling anything other than numbers\n",
    "\n"
   ]
  },
  {
   "cell_type": "code",
   "execution_count": null,
   "metadata": {},
   "outputs": [],
   "source": [
    "n = input(\"Please enter your name: \")\n",
    "print(n)"
   ]
  },
  {
   "cell_type": "code",
   "execution_count": null,
   "metadata": {},
   "outputs": [],
   "source": [
    "n = eval(input(\"Enter a numerical expression: \"))\n",
    "print (n)"
   ]
  },
  {
   "cell_type": "markdown",
   "metadata": {},
   "source": [
    "### Exercise :\n",
    "\n",
    "Take two numbers from user and print addition, subtraction, division and multiplications of them"
   ]
  },
  {
   "cell_type": "markdown",
   "metadata": {},
   "source": [
    "## Flow Control :"
   ]
  },
  {
   "cell_type": "markdown",
   "metadata": {},
   "source": [
    "### if …. elif …. else statement:\n",
    "\n",
    "<b>Syntax:</b>\n",
    "\n",
    "```if expressions :\n",
    "    statement\n",
    "elif expression :\n",
    "    statement\n",
    "else :\n",
    "    Statement```\n",
    "\n",
    "\n",
    "Exercise : Write a Program to check if a given number is positive or negative\n"
   ]
  },
  {
   "cell_type": "code",
   "execution_count": null,
   "metadata": {},
   "outputs": [],
   "source": [
    "num = 10\n",
    "\n",
    "if num > 5:\n",
    "    print('The number',num,'is greater than 5')"
   ]
  },
  {
   "cell_type": "code",
   "execution_count": null,
   "metadata": {},
   "outputs": [],
   "source": [
    "a = eval(input('Enter a value '))\n",
    "if a == 1:\n",
    "    print('The value is 1')\n",
    "elif a == 2:\n",
    "    print('The value is 2')\n",
    "else :\n",
    "    print('Invalid value')"
   ]
  },
  {
   "cell_type": "markdown",
   "metadata": {},
   "source": [
    "### Exercise : \n",
    "Write a Program to check if a given number is positive or negative"
   ]
  },
  {
   "cell_type": "markdown",
   "metadata": {},
   "source": [
    "### for statement:\n",
    "\n",
    "<b>Syntax :</b>\n",
    "\n",
    "```for value in sequence :\n",
    "    statement\n",
    "    ```\n",
    "\n",
    "Here, val is the variable that takes the value of the item inside the sequence on each iteration.\n",
    "\n",
    "Loop continues until we reach the last item in the sequence. The body of for loop is separated from the rest of the code using indentation.\n"
   ]
  },
  {
   "cell_type": "code",
   "execution_count": null,
   "metadata": {},
   "outputs": [],
   "source": [
    "l = [1,2,3,4]\n",
    "\n",
    "for i in l:\n",
    "    print (i)"
   ]
  },
  {
   "cell_type": "markdown",
   "metadata": {},
   "source": [
    "### Exercise : \n",
    "Write a program to calculate sum of all numbers stored in a list"
   ]
  },
  {
   "cell_type": "markdown",
   "metadata": {},
   "source": [
    "### range( ) function:\n",
    "\n",
    "We can generate a sequence of numbers using range(). Range(10) will give output as [0,1,2,3,4,5,6,7,8,9]\n",
    "\n",
    "Syntax :\n",
    "\n",
    "`range(start, stop, step size)`\n"
   ]
  },
  {
   "cell_type": "code",
   "execution_count": null,
   "metadata": {},
   "outputs": [],
   "source": [
    "a =  ['Master','Bridge','Python']\n",
    "\n",
    "for i in range(len(a)):\n",
    "    print('At location',i,'we have', a[i])\n"
   ]
  },
  {
   "cell_type": "markdown",
   "metadata": {},
   "source": [
    "### Exercise :\n",
    "Write a program to calculate sum of all numbers stored in a list using range function"
   ]
  },
  {
   "cell_type": "markdown",
   "metadata": {},
   "source": [
    "### while statement:\n",
    "\n",
    "The while loop in Python is used to iterate over a block of code as long as the test expression (condition) is true.\n",
    "\n",
    "<b>Syntax :</b>\n",
    "\n",
    "```while expression :\n",
    "    Statement```\n"
   ]
  },
  {
   "cell_type": "code",
   "execution_count": 12,
   "metadata": {},
   "outputs": [
    {
     "name": "stdout",
     "output_type": "stream",
     "text": [
      "Inside loop\n",
      "Inside loop\n",
      "Inside loop\n"
     ]
    }
   ],
   "source": [
    "counter = 0\n",
    "\n",
    "while counter < 3:\n",
    "    print(\"Inside loop\")\n",
    "    counter = counter + 1\n"
   ]
  },
  {
   "cell_type": "markdown",
   "metadata": {},
   "source": [
    "### Exercise : \n",
    "\n",
    "Write a program to add first N natural numbers using while statement\n"
   ]
  },
  {
   "cell_type": "markdown",
   "metadata": {},
   "source": [
    "### break and continue statement:\n",
    "\n",
    "Sometimes we need to discontinue the loop even before the loop ends. For this we use break and continue statements.\n",
    "\n",
    "1. break statement:\n",
    " * The break statement terminates the loop containing it. Control of the program flows to the statement immediately after the body of the loop.\n",
    " * If break statement is inside a nested loop (loop inside another loop), break will terminate the innermost loop.\n",
    "\n"
   ]
  },
  {
   "cell_type": "code",
   "execution_count": 14,
   "metadata": {},
   "outputs": [
    {
     "name": "stdout",
     "output_type": "stream",
     "text": [
      "1\n",
      "2\n",
      "3\n",
      "Example of break\n"
     ]
    }
   ],
   "source": [
    "a = [1,2,3,4,5]\n",
    "for i in a :\n",
    "    if i == 4 :\n",
    "        break\n",
    "    print (i)\n",
    "\n",
    "print ('Example of break')"
   ]
  },
  {
   "cell_type": "markdown",
   "metadata": {},
   "source": [
    "2. continue statement:\n",
    "The continue statement is used to skip the rest of the code inside a loop for the current iteration only. Loop does not terminate but continues on with the next iteration."
   ]
  },
  {
   "cell_type": "code",
   "execution_count": 15,
   "metadata": {},
   "outputs": [
    {
     "name": "stdout",
     "output_type": "stream",
     "text": [
      "1\n",
      "2\n",
      "3\n",
      "5\n",
      "Example of continue\n"
     ]
    }
   ],
   "source": [
    "a = [1,2,3,4,5]\n",
    "for i in a :\n",
    "    if i == 4 :\n",
    "        continue\n",
    "    print (i)\n",
    "\n",
    "print ('Example of continue')"
   ]
  },
  {
   "cell_type": "markdown",
   "metadata": {},
   "source": [
    "### Exercise : \n",
    "\n",
    "Write a program for simple calculator"
   ]
  },
  {
   "cell_type": "markdown",
   "metadata": {},
   "source": [
    "## Functions :\n",
    "\n",
    "A function is a named sequence of statements that performs a desired operation. There can be any number of statements inside the function, but they have to be indented from the def.\n",
    "\n",
    "Functions have :\n",
    "A header, which begins with a keyword and ends with a colon.\n",
    "A body consisting of one or more Python statements, each indented the same amount – 4 spaces is the Python standard – from the header.\n",
    "\n",
    "<b>Syntax :</b>\n",
    "\n",
    "```def NAME( LIST OF PARAMETERS ):\n",
    "    ‘’’docstring’’’\n",
    "    STATEMENTS\n",
    "    return```\n",
    "\n",
    "Note : Return statement is optional\n",
    "\n",
    "Functions help break our program into smaller and modular chunks. As our program grows larger and larger, functions make it more organized and manageable. It makes the code more usable.\n"
   ]
  },
  {
   "cell_type": "code",
   "execution_count": 19,
   "metadata": {
    "scrolled": true
   },
   "outputs": [
    {
     "name": "stdout",
     "output_type": "stream",
     "text": [
      "Enter your name :Python\n",
      "Hello, Python. Good morning!\n"
     ]
    }
   ],
   "source": [
    "def hello(name):\n",
    "    \"\"\"This function greets to the person passed in as parameter\"\"\"\n",
    "    print(\"Hello, \" + name + \". Good morning!\")\n",
    "name = input('Enter your name :')\n",
    "hello(name)\n"
   ]
  },
  {
   "cell_type": "markdown",
   "metadata": {},
   "source": [
    "Question : What will be the output?"
   ]
  },
  {
   "cell_type": "code",
   "execution_count": 20,
   "metadata": {},
   "outputs": [
    {
     "name": "stdout",
     "output_type": "stream",
     "text": [
      "First Line.\n",
      "\n",
      "\n",
      "\n",
      "Second Line.\n"
     ]
    }
   ],
   "source": [
    "def new_line():\n",
    "    print()\n",
    "\n",
    "print (\"First Line.\")\n",
    "new_line()\n",
    "new_line()\n",
    "new_line()\n",
    "print (\"Second Line.\")\n"
   ]
  },
  {
   "cell_type": "code",
   "execution_count": 21,
   "metadata": {},
   "outputs": [
    {
     "data": {
      "text/plain": [
       "'a = 10\\nb = 20\\nprint (“Sum of a and b is = ”, sum(a,b))\\n\\ndef sum(a,b):\\n    return a+b\\n'"
      ]
     },
     "execution_count": 21,
     "metadata": {},
     "output_type": "execute_result"
    }
   ],
   "source": [
    "'''a = 10\n",
    "b = 20\n",
    "print (“Sum of a and b is = ”, sum(a,b))\n",
    "\n",
    "def sum(a,b):\n",
    "    return a+b\n",
    "'''"
   ]
  },
  {
   "cell_type": "markdown",
   "metadata": {},
   "source": [
    "<b>Flow of execution :</b> \n",
    "\n",
    "* Execution always begins at the first statement of the program. Statements are executed one at a time, in order from top to bottom\n",
    "* Function definitions do not alter the flow of execution of the program, but remember that statements inside the function are not executed until the function is called. Although it is not common, you can define one function inside another. In this case, the inner definition isn’t executed until the outer function is called.\n",
    "\n",
    "<b>Docstring :</b>\n",
    "\n",
    "Documentation is a good programming practice. In the above example, we have a docstring immediately below the function header. We generally use triple quotes so that docstring can extend up to multiple lines. This string is available to us as __doc__ attribute of the function.\n",
    "\n",
    "\n",
    "<b>Return Statement :</b>\n",
    "\n",
    "The return statement is used to exit a function and go back to the place from where it was called.\n",
    "\n",
    "<b>Syntax of return :</b>\n",
    "\n",
    "```return [expression_list]```\n",
    "\n",
    "This statement can contain expression which gets evaluated and the value is returned. If there is no expression in the statement or the return statement itself is not present inside a function, then the function will return the None object.\n"
   ]
  },
  {
   "cell_type": "markdown",
   "metadata": {},
   "source": [
    "### Exercise : \n",
    "\n",
    "Write a function to find the Max of three numbers.\n"
   ]
  },
  {
   "cell_type": "markdown",
   "metadata": {},
   "source": [
    "### Two types of functions in python :\n",
    "\n",
    "1. Built-in functions\n",
    "2. User-defined functions\n",
    " \n",
    "<b>Built-in functions :</b> The Python interpreter has a number of functions that are always available for use. These functions are called built-in functions.\n",
    "\n",
    "To obtain the entire list of built-in function, type:\n",
    "\n",
    "dir(__builtins__)\n",
    "\n",
    "Examples : input(), type(), id() etc.\n",
    "\n",
    "To use any built-in function, we have to import the module in which the function is defined, in our program. For example, in the below program we have imported the math module to use the floor() built-in function.\n",
    "\n",
    "\n"
   ]
  },
  {
   "cell_type": "code",
   "execution_count": 23,
   "metadata": {},
   "outputs": [
    {
     "name": "stdout",
     "output_type": "stream",
     "text": [
      "The floor of 2.3 is :  2\n"
     ]
    }
   ],
   "source": [
    "import math\n",
    "\n",
    "a = 2.3\n",
    "print (\"The floor of 2.3 is : \", math.floor(a))"
   ]
  },
  {
   "cell_type": "markdown",
   "metadata": {},
   "source": [
    "<b>User-defined functions :</b> Functions defined by the users themselves.\n",
    "\n",
    "#### Function Arguments :\n",
    "\n",
    "1. Fixed function arguments :\n",
    "\n",
    "Whenever the function is called exact number of arguments should be passed\n",
    "Example,\n"
   ]
  },
  {
   "cell_type": "code",
   "execution_count": 24,
   "metadata": {},
   "outputs": [
    {
     "name": "stdout",
     "output_type": "stream",
     "text": [
      "5\n",
      "35\n"
     ]
    }
   ],
   "source": [
    "def add(a,b):\n",
    "    sum = a + b\n",
    "    print (sum)\n",
    "\n",
    "add(2,3)\n",
    "add(12,23)\n"
   ]
  },
  {
   "cell_type": "markdown",
   "metadata": {},
   "source": [
    "2. Variable function arguments :\n",
    "In Python there are other ways to define a function which can take variable number of arguments.\n",
    "\n",
    " * Default arguments\n",
    "Function arguments can have default values in Python. We can provide a default value to an argument by using the assignment operator (=)\n",
    "\n",
    "Example,\n"
   ]
  },
  {
   "cell_type": "code",
   "execution_count": 25,
   "metadata": {},
   "outputs": [
    {
     "name": "stdout",
     "output_type": "stream",
     "text": [
      "12\n",
      "35\n"
     ]
    }
   ],
   "source": [
    "def add(a,b = 10):\n",
    "    sum = a + b\n",
    "    print (sum)\n",
    "\n",
    "add(2)\n",
    "add(12,23)"
   ]
  },
  {
   "cell_type": "markdown",
   "metadata": {},
   "source": [
    "  * Keyword arguments\n",
    "  \n",
    "When we call a function with some values, these values get assigned to the arguments according to their position.\n",
    "\n",
    "Example,\n"
   ]
  },
  {
   "cell_type": "code",
   "execution_count": 26,
   "metadata": {},
   "outputs": [
    {
     "name": "stdout",
     "output_type": "stream",
     "text": [
      "12\n",
      "35\n",
      "15\n"
     ]
    }
   ],
   "source": [
    "def add(a = 5,b = 10):\n",
    "    sum = a + b\n",
    "    print (sum)\n",
    "\n",
    "add(a = 2)\n",
    "add(b = 12,a = 23)\n",
    "add(2, b = 13)\n"
   ]
  },
  {
   "cell_type": "markdown",
   "metadata": {},
   "source": [
    " * Arbitrary arguments\n",
    " \n",
    "Sometimes, we do not know in advance the number of arguments that will be passed into a function.Python allows us to handle this kind of situation through function calls with arbitrary number of arguments. In the function definition we use an asterisk (*) before the parameter name to denote this kind of argument. \n",
    "\n",
    "Example,\n"
   ]
  },
  {
   "cell_type": "code",
   "execution_count": 27,
   "metadata": {},
   "outputs": [
    {
     "name": "stdout",
     "output_type": "stream",
     "text": [
      "Hello Monica\n",
      "Hello Luke\n",
      "Hello Steve\n",
      "Hello John\n"
     ]
    }
   ],
   "source": [
    "def greet(*names):\n",
    "   \"\"\"This function greets all\n",
    "   the person in the names tuple.\"\"\"\n",
    "\n",
    "   # names is a tuple with arguments\n",
    "   for name in names:\n",
    "       print(\"Hello\",name)\n",
    "\n",
    "greet(\"Monica\",\"Luke\",\"Steve\",\"John\")\n"
   ]
  },
  {
   "cell_type": "markdown",
   "metadata": {},
   "source": [
    "### Recursion :\n",
    "\n",
    "A function can call other functions. It is even possible for the function to call itself. These type of construct are termed as recursive functions.\n",
    "\n",
    "Following is an example of recursive function to find the factorial of an integer.\n",
    "\n",
    "Factorial of a number is the product of all the integers from 1 to that number. For example, the factorial of 6 (denoted as 6!) is 1*2*3*4*5*6 = 720\n",
    "\n"
   ]
  },
  {
   "cell_type": "code",
   "execution_count": 28,
   "metadata": {},
   "outputs": [
    {
     "name": "stdout",
     "output_type": "stream",
     "text": [
      "The factorial of 4 is 24\n"
     ]
    }
   ],
   "source": [
    "def calc_factorial(x):\n",
    "    \"\"\"This is a recursive function\n",
    "    to find the factorial of an integer\"\"\"\n",
    "\n",
    "    if x == 1:\n",
    "        return 1\n",
    "    else:\n",
    "        return (x * calc_factorial(x-1))\n",
    "\n",
    "num = 4\n",
    "print(\"The factorial of\", num, \"is\", calc_factorial(num))\n"
   ]
  },
  {
   "cell_type": "markdown",
   "metadata": {},
   "source": [
    "### Exercise : \n",
    "Program to Find the Sum of the Digits of the Number Recursively\n"
   ]
  },
  {
   "cell_type": "markdown",
   "metadata": {},
   "source": [
    "# Module 3 :"
   ]
  },
  {
   "cell_type": "markdown",
   "metadata": {},
   "source": [
    "### Anonymous/Lambda Function :\n",
    "\n",
    "In Python, anonymous function is a function that is defined without a name. While normal functions are defined using the def keyword, in Python anonymous functions are defined using the lambda keyword. Hence, anonymous functions are also called lambda functions\n",
    "\n",
    "Syntax :\n",
    "\n",
    "`lambda arguments: expression`\n",
    "\n",
    "Lambda functions can have any number of arguments but only one expression. The expression is evaluated and returned.\n"
   ]
  },
  {
   "cell_type": "code",
   "execution_count": 29,
   "metadata": {},
   "outputs": [
    {
     "name": "stdout",
     "output_type": "stream",
     "text": [
      "10\n"
     ]
    }
   ],
   "source": [
    "double = lambda x: x * 2\n",
    "print(double(5))\n"
   ]
  },
  {
   "cell_type": "code",
   "execution_count": 31,
   "metadata": {},
   "outputs": [
    {
     "name": "stdout",
     "output_type": "stream",
     "text": [
      "1000\n",
      "1000\n"
     ]
    }
   ],
   "source": [
    "#Cube of a number without using lambda function :\n",
    "def cube(a):\n",
    "    return a*a*a\n",
    "ans = cube(10)\n",
    "print(ans)\n",
    "\n",
    "#Cube of a number using lambda function :\n",
    "x = lambda a:a*a*a\n",
    "print(x(10))\n"
   ]
  },
  {
   "cell_type": "markdown",
   "metadata": {},
   "source": [
    "## Import Statement :\n",
    "\n",
    "We can import a module using import statement and access the definitions inside it using the dot operator as we did in the examples \n",
    "\n",
    "`import os`\n",
    "\n",
    "`os.system(‘clear’)`\n",
    "\n",
    "Note : To get a list of all the functions inside a module, we can use dir() function\n",
    "`dir(os)`\n",
    "\n",
    "To get absolute path of the module’s source file, we can use these statement:\n",
    "\n",
    "`import modulename`\n",
    "\n",
    "```print(modulename.__file__)```\n"
   ]
  },
  {
   "cell_type": "markdown",
   "metadata": {},
   "source": [
    "<b>Import with renaming :</b>\n",
    "\n",
    "If you have a long module name you can import it by renaming it. For example,\n"
   ]
  },
  {
   "cell_type": "code",
   "execution_count": 34,
   "metadata": {},
   "outputs": [
    {
     "name": "stdout",
     "output_type": "stream",
     "text": [
      "3.141592653589793\n"
     ]
    }
   ],
   "source": [
    "import math as m\n",
    "print (m.pi)\n"
   ]
  },
  {
   "cell_type": "markdown",
   "metadata": {},
   "source": [
    "<b>Importing specific names:</b>\n",
    "\n",
    "We can import specific names from a module without importing the module as a whole\n"
   ]
  },
  {
   "cell_type": "code",
   "execution_count": 36,
   "metadata": {},
   "outputs": [
    {
     "name": "stdout",
     "output_type": "stream",
     "text": [
      "3.141592653589793\n"
     ]
    }
   ],
   "source": [
    "from math import pi\n",
    "print (pi)\n"
   ]
  },
  {
   "cell_type": "markdown",
   "metadata": {},
   "source": [
    "<b>What if the module is not built-in :</b>\n",
    "\n",
    "`>>> import numpy\n",
    "Traceback (most recent call last):\n",
    "  File \"<stdin>\", line 1, in <module>`\n",
    "  \n",
    "ModuleNotFoundError: No module named 'numpy'\n",
    "\n",
    "To install external libraries on Jupyter notebook,"
   ]
  },
  {
   "cell_type": "code",
   "execution_count": 37,
   "metadata": {},
   "outputs": [
    {
     "ename": "ModuleNotFoundError",
     "evalue": "No module named 'scipy'",
     "output_type": "error",
     "traceback": [
      "\u001b[0;31m---------------------------------------------------------------------------\u001b[0m",
      "\u001b[0;31mModuleNotFoundError\u001b[0m                       Traceback (most recent call last)",
      "\u001b[0;32m<ipython-input-37-4363d2be0702>\u001b[0m in \u001b[0;36m<module>\u001b[0;34m\u001b[0m\n\u001b[0;32m----> 1\u001b[0;31m \u001b[0;32mimport\u001b[0m \u001b[0mscipy\u001b[0m\u001b[0;34m\u001b[0m\u001b[0;34m\u001b[0m\u001b[0m\n\u001b[0m",
      "\u001b[0;31mModuleNotFoundError\u001b[0m: No module named 'scipy'"
     ]
    }
   ],
   "source": [
    "import scipy\n"
   ]
  },
  {
   "cell_type": "code",
   "execution_count": 40,
   "metadata": {},
   "outputs": [
    {
     "name": "stdout",
     "output_type": "stream",
     "text": [
      "Collecting scipy\n",
      "\u001b[?25l  Downloading https://files.pythonhosted.org/packages/43/df/3f85a3a762e5dd8d593614288c1f86a5dfbb8b20071192e850d1a9934e7d/scipy-1.3.3-cp37-cp37m-macosx_10_6_intel.whl (27.7MB)\n",
      "\u001b[K    100% |████████████████████████████████| 27.7MB 552kB/s ta 0:00:011    77% |████████████████████████▉       | 21.5MB 272kB/s eta 0:00:23\n",
      "\u001b[?25hRequirement already satisfied: numpy>=1.13.3 in /usr/local/lib/python3.7/site-packages (from scipy) (1.16.3)\n",
      "Installing collected packages: scipy\n",
      "Successfully installed scipy-1.3.3\n"
     ]
    }
   ],
   "source": [
    "!pip3 install scipy\n"
   ]
  },
  {
   "cell_type": "code",
   "execution_count": 41,
   "metadata": {},
   "outputs": [],
   "source": [
    "import scipy   #To import library"
   ]
  },
  {
   "cell_type": "markdown",
   "metadata": {},
   "source": [
    "#### Machine Learning pre-requisite\n",
    "\n",
    "To try machine learning concepts practically, we need to install the modules required.\n",
    "Use this command to install all the prerequisite:\n",
    "\n",
    "!pip3 install pandas\n",
    "<br>\n",
    "!pip3 install seaborn\n",
    "<br>\n",
    "!pip3 install matplotlib\n",
    "<br>\n",
    "!pip3 install sklearn\n",
    "<br>\n",
    "!pip3 install statsmodels\n",
    "\n",
    "We already have scipy and numpy installed in our notebook"
   ]
  },
  {
   "cell_type": "code",
   "execution_count": null,
   "metadata": {},
   "outputs": [],
   "source": []
  }
 ],
 "metadata": {
  "kernelspec": {
   "display_name": "Python 3",
   "language": "python",
   "name": "python3"
  },
  "language_info": {
   "codemirror_mode": {
    "name": "ipython",
    "version": 3
   },
   "file_extension": ".py",
   "mimetype": "text/x-python",
   "name": "python",
   "nbconvert_exporter": "python",
   "pygments_lexer": "ipython3",
   "version": "3.6.5"
  }
 },
 "nbformat": 4,
 "nbformat_minor": 2
}

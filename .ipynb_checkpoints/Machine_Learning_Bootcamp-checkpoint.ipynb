{
 "cells": [
  {
   "cell_type": "markdown",
   "metadata": {},
   "source": [
    "## Module 3:\n",
    "#### Machine Learning pre-requisite\n",
    "\n",
    "To try machine learning concepts practically, we need to install the modules required.\n",
    "Use this command to install all the prerequisite:\n",
    "\n",
    "!pip3 install pandas\n",
    "<br>\n",
    "!pip3 install seaborn\n",
    "<br>\n",
    "!pip3 install matplotlib\n",
    "<br>\n",
    "!pip3 install sklearn\n",
    "<br>\n",
    "!pip3 install statsmodels\n",
    "\n",
    "If not installed, please install scipy and numpy as well. Check with import scipy or import numpy."
   ]
  },
  {
   "cell_type": "markdown",
   "metadata": {},
   "source": [
    "## Artificial Intelligence:\n",
    "The theory & development of computer systems that enables them to perform tasks that would normally require human intelligence, such as visual perception, speech recognition, decision-making and translation between languages is called Artificial Intelligence (AI).\n",
    "\n",
    "## Machine Learning:\n",
    "Machine Learning (ML) is a subset of AI in the field of computer science that often gives computer systems the ability to “learn” (i.e., progressively improve performance on a specific task) from data using statistical techniques, without being explicitly programmed.\n",
    "\n",
    "### Types of Machine Learning:\n",
    "\n",
    "#### Supervised Learning:\n",
    "Data contains a set of variables and target variable which needs to be predicted in the test data. We create a model from a set of variables (independent), which will basically map combinations or uniqueness of inputs to the output. Then, we train the model on the training data using sampling methods until we get the desired accuracy. The model is then applied to test data to predict the target variable.\n",
    "\n",
    "Examples:\n",
    "1. Classification Models (Decision Trees, Random Forest, Naive Bayes, etc.)\n",
    "2. Regression Models (Simple Linear Regression, Logistic Regression, etc.)\n",
    "3. k-Nearest Neighbors (kNN)\n",
    "4. Support Vector Machine (SVM)\n",
    "\n",
    "#### Unsupervised Learning:\n",
    "Data contains just a set of variables and no target variable. We create a model from a set of variables (independent), which will basically form clusters based on the combination of the uniqueness of inputs. Then, we train the model on the training data using sampling methods until we get the desired accuracy. The model is then applied to test data to find which clusters individual records belong to.\n",
    "\n",
    "Examples:\n",
    "1. Clustering (K-means)\n",
    "2. Association (Apriori)\n",
    "\n",
    "\n",
    "#### Reinforcement Learning:\n",
    "Learning consists of assigning negative weights when the action isn’t helping us reach the final goal and feeding it back to the computer system to complete the task in the given context in the most accurate manner.\n",
    "\n",
    "\n",
    "Examples:\n",
    "1. Neural Networks\n",
    "2. Robotic Process Automation (RPA)\n"
   ]
  },
  {
   "cell_type": "markdown",
   "metadata": {},
   "source": [
    "## Exploratory Data Analysis (EDA)\n",
    "\n",
    "Data analysis and data visualization are used at every step of machine learning. The purpose of this EDA is to find insights that will serve us later for Data Cleaning/Preparation/Transformation which will ultimately be used into a machine learning algorithm."
   ]
  },
  {
   "cell_type": "markdown",
   "metadata": {},
   "source": [
    "<b>Pandas library</b> provides data structures (dataframe) and data analysis tools which integrate well with other libraries."
   ]
  },
  {
   "cell_type": "code",
   "execution_count": 42,
   "metadata": {},
   "outputs": [],
   "source": [
    "#Syntax:\n",
    "import pandas as pd"
   ]
  },
  {
   "cell_type": "code",
   "execution_count": 43,
   "metadata": {},
   "outputs": [
    {
     "name": "stdout",
     "output_type": "stream",
     "text": [
      "     account  Jan  Feb  Mar\n",
      "0  Jones LLC  150  200  140\n",
      "1   Alpha Co  200  210  215\n",
      "2   Blue Inc   50   90   95\n"
     ]
    }
   ],
   "source": [
    "#Creating data frame:\n",
    "#From dictionary\n",
    "sales = {'account': ['Jones LLC', 'Alpha Co', 'Blue Inc'],\n",
    "         'Jan': [150, 200, 50],\n",
    "         'Feb': [200, 210, 90],\n",
    "         'Mar': [140, 215, 95]}\n",
    "df = pd.DataFrame.from_dict(sales)\n",
    "print(df)"
   ]
  },
  {
   "cell_type": "code",
   "execution_count": 44,
   "metadata": {},
   "outputs": [
    {
     "name": "stdout",
     "output_type": "stream",
     "text": [
      "    a   b   c\n",
      "0   1   2   3\n",
      "1  10  20  30\n"
     ]
    }
   ],
   "source": [
    "#List of dictionaries:\n",
    "data = [{'a': 1, 'b': 2, 'c':3}, {'a':10, 'b': 20, 'c': 30}]\n",
    "df = pd.DataFrame(data) \n",
    "print(df)"
   ]
  },
  {
   "cell_type": "code",
   "execution_count": 45,
   "metadata": {},
   "outputs": [
    {
     "name": "stdout",
     "output_type": "stream",
     "text": [
      "     Name  Age\n",
      "0   Alice   22\n",
      "1     Bob   33\n",
      "2   Chris   44\n",
      "3  Dillon   55\n"
     ]
    }
   ],
   "source": [
    "#Using zip function:\n",
    "Name = ['Alice','Bob','Chris','Dillon']\n",
    "Age = [22,33,44,55]\n",
    "list_of_tuples = list(zip(Name, Age))  \n",
    "df = pd.DataFrame(list_of_tuples, columns = ['Name', 'Age']) \n",
    "print(df)"
   ]
  },
  {
   "cell_type": "code",
   "execution_count": 46,
   "metadata": {},
   "outputs": [
    {
     "data": {
      "text/html": [
       "<div>\n",
       "<style scoped>\n",
       "    .dataframe tbody tr th:only-of-type {\n",
       "        vertical-align: middle;\n",
       "    }\n",
       "\n",
       "    .dataframe tbody tr th {\n",
       "        vertical-align: top;\n",
       "    }\n",
       "\n",
       "    .dataframe thead th {\n",
       "        text-align: right;\n",
       "    }\n",
       "</style>\n",
       "<table border=\"1\" class=\"dataframe\">\n",
       "  <thead>\n",
       "    <tr style=\"text-align: right;\">\n",
       "      <th></th>\n",
       "      <th>Name</th>\n",
       "      <th>Age</th>\n",
       "    </tr>\n",
       "  </thead>\n",
       "  <tbody>\n",
       "    <tr>\n",
       "      <th>0</th>\n",
       "      <td>Alice</td>\n",
       "      <td>22</td>\n",
       "    </tr>\n",
       "    <tr>\n",
       "      <th>1</th>\n",
       "      <td>Bob</td>\n",
       "      <td>33</td>\n",
       "    </tr>\n",
       "    <tr>\n",
       "      <th>2</th>\n",
       "      <td>Chris</td>\n",
       "      <td>44</td>\n",
       "    </tr>\n",
       "    <tr>\n",
       "      <th>3</th>\n",
       "      <td>Dillon</td>\n",
       "      <td>55</td>\n",
       "    </tr>\n",
       "  </tbody>\n",
       "</table>\n",
       "</div>"
      ],
      "text/plain": [
       "     Name  Age\n",
       "0   Alice   22\n",
       "1     Bob   33\n",
       "2   Chris   44\n",
       "3  Dillon   55"
      ]
     },
     "execution_count": 46,
     "metadata": {},
     "output_type": "execute_result"
    }
   ],
   "source": [
    "#Selecting a series from data :\n",
    "\n",
    "#To get first five lines of data:\n",
    "df.head()"
   ]
  },
  {
   "cell_type": "code",
   "execution_count": 47,
   "metadata": {},
   "outputs": [
    {
     "data": {
      "text/html": [
       "<div>\n",
       "<style scoped>\n",
       "    .dataframe tbody tr th:only-of-type {\n",
       "        vertical-align: middle;\n",
       "    }\n",
       "\n",
       "    .dataframe tbody tr th {\n",
       "        vertical-align: top;\n",
       "    }\n",
       "\n",
       "    .dataframe thead th {\n",
       "        text-align: right;\n",
       "    }\n",
       "</style>\n",
       "<table border=\"1\" class=\"dataframe\">\n",
       "  <thead>\n",
       "    <tr style=\"text-align: right;\">\n",
       "      <th></th>\n",
       "      <th>Name</th>\n",
       "      <th>Age</th>\n",
       "    </tr>\n",
       "  </thead>\n",
       "  <tbody>\n",
       "    <tr>\n",
       "      <th>0</th>\n",
       "      <td>Alice</td>\n",
       "      <td>22</td>\n",
       "    </tr>\n",
       "    <tr>\n",
       "      <th>1</th>\n",
       "      <td>Bob</td>\n",
       "      <td>33</td>\n",
       "    </tr>\n",
       "    <tr>\n",
       "      <th>2</th>\n",
       "      <td>Chris</td>\n",
       "      <td>44</td>\n",
       "    </tr>\n",
       "    <tr>\n",
       "      <th>3</th>\n",
       "      <td>Dillon</td>\n",
       "      <td>55</td>\n",
       "    </tr>\n",
       "  </tbody>\n",
       "</table>\n",
       "</div>"
      ],
      "text/plain": [
       "     Name  Age\n",
       "0   Alice   22\n",
       "1     Bob   33\n",
       "2   Chris   44\n",
       "3  Dillon   55"
      ]
     },
     "execution_count": 47,
     "metadata": {},
     "output_type": "execute_result"
    }
   ],
   "source": [
    "#To get the last five lines of data:\n",
    "df.tail()"
   ]
  },
  {
   "cell_type": "code",
   "execution_count": 48,
   "metadata": {},
   "outputs": [
    {
     "name": "stdout",
     "output_type": "stream",
     "text": [
      "0     Alice\n",
      "1       Bob\n",
      "2     Chris\n",
      "3    Dillon\n",
      "Name: Name, dtype: object\n",
      "0    22\n",
      "1    33\n",
      "2    44\n",
      "3    55\n",
      "Name: Age, dtype: int64\n"
     ]
    }
   ],
   "source": [
    "#Selecting specific column: \n",
    "print(df.Name)\n",
    "print(df['Age'])"
   ]
  },
  {
   "cell_type": "code",
   "execution_count": 49,
   "metadata": {},
   "outputs": [
    {
     "data": {
      "text/plain": [
       "(4, 2)"
      ]
     },
     "execution_count": 49,
     "metadata": {},
     "output_type": "execute_result"
    }
   ],
   "source": [
    "#To get descriptive statistics of numeric columns:\n",
    "df.describe()\n",
    "\n",
    "#Finding out dimensionality of DataFrame:\n",
    "df.shape"
   ]
  },
  {
   "cell_type": "code",
   "execution_count": 50,
   "metadata": {},
   "outputs": [
    {
     "name": "stdout",
     "output_type": "stream",
     "text": [
      "    Names  Age\n",
      "0   Alice   22\n",
      "1     Bob   33\n",
      "2   Chris   44\n",
      "3  Dillon   55\n",
      "    Names  Age\n",
      "0   Alice   22\n",
      "1     Bob   33\n",
      "2   Chris   44\n",
      "3  Dillon   55\n",
      "        A   B\n",
      "0   Alice  22\n",
      "1     Bob  33\n",
      "2   Chris  44\n",
      "3  Dillon  55\n"
     ]
    }
   ],
   "source": [
    "#Renaming and Removing columns:\n",
    "\n",
    "#To rename single column:\n",
    "df.rename(columns = {'Name':'Names'},inplace = True)\n",
    "print(df)\n",
    "\n",
    "#To rename all columns:\n",
    "df1 = df.copy(deep=True)\n",
    "df1_col = ['A','B']\n",
    "print(df1)\n",
    "df1.columns = df1_col\n",
    "print(df1)"
   ]
  },
  {
   "cell_type": "code",
   "execution_count": 51,
   "metadata": {},
   "outputs": [
    {
     "name": "stdout",
     "output_type": "stream",
     "text": [
      "    B\n",
      "0  22\n",
      "1  33\n",
      "2  44\n",
      "3  55\n",
      "    B\n",
      "2  44\n",
      "3  55\n",
      "{'Names': {0: 'Alice', 1: 'Bob', 2: 'Chris', 3: 'Dillon'}, 'Age': {0: 22, 1: 33, 2: 44, 3: 55}}\n",
      "[['Alice', 22], ['Bob', 33], ['Chris', 44], ['Dillon', 55]]\n"
     ]
    }
   ],
   "source": [
    "#To delete columns:\n",
    "df1.drop('A', axis=1, inplace=True)\n",
    "print(df1)\n",
    "\n",
    "#To delete rows : \n",
    "rows = [0, 1]\n",
    "df1.drop(rows, axis=0, inplace=True)\n",
    "print(df1)\n",
    "\n",
    "#Converting dataframe to dictionary: \n",
    "dict_new = df.to_dict()\n",
    "print(dict_new)\n",
    "\n",
    "#Converting dataframe to list/string:\n",
    "list_new = df.values.tolist()\n",
    "print(list_new)"
   ]
  },
  {
   "cell_type": "code",
   "execution_count": 56,
   "metadata": {},
   "outputs": [],
   "source": [
    "#Reading data:\n",
    "#We can read data from csv, excel and tabular data formats\n",
    "# df = pd.read_csv('/filepath/data.csv') \n",
    "churn_data = pd.read_csv('/Users/nimeshbumb/Downloads/Churn_Modelling.csv') \n"
   ]
  },
  {
   "cell_type": "markdown",
   "metadata": {},
   "source": [
    "## Data Visualization\n",
    "\n",
    "\n",
    "Data given to you does not make sense until you can look at it in a visual form, such as with charts and plots. Data visualization is very important for applied statistics and machine learning.\n",
    "\n",
    "It can be helpful when exploring and getting to know a dataset and can help with identifying patterns, corrupt data, outliers, and much more.\n",
    "\n",
    "There are many libraries in Python for data visualization, but we will start with the Matplotlib library because it is the foundation for many other plotting libraries and plotting support in higher-level libraries such as Pandas. (After learning this matplotlib, start exploring other libraries)\n"
   ]
  },
  {
   "cell_type": "markdown",
   "metadata": {},
   "source": [
    "### Introduction to Matplotlib :\n",
    "\n",
    "The matplotlib provides a context, one in which one or more plots can be drawn before the image is shown or saved to file. The context can be accessed via functions on pyplot."
   ]
  },
  {
   "cell_type": "code",
   "execution_count": null,
   "metadata": {},
   "outputs": [],
   "source": [
    "# Convention to import pyplot from matplotlib is :\n",
    "import matplotlib.pyplot as plt\n",
    "\n",
    "# Charts and plots are made by using plt:\n",
    "plt.plot()\n",
    "\n",
    "# Elements such as axis, labels, legends, and so on can be accessed and configured using plt as separate function calls:\n",
    "plt.xlabel()\n",
    "plt.ylabel()\n",
    "\n",
    "# The graphs plotted will only be shown in a new window when you call \n",
    "plt.show()\n",
    "\n",
    "# The graphs can also be saved to file, such as a PNG formatted image file using \n",
    "plt.savefig()"
   ]
  },
  {
   "cell_type": "markdown",
   "metadata": {},
   "source": [
    "#### Line Plot :\n",
    "\n",
    "A line plot is generally used to present observations collected at regular intervals. The x-axis represents the regular interval, such as time. The y-axis shows the observations, ordered by the x-axis and connected by a line.\n",
    "\n",
    "Line plot is created by plot() function : plt.plot(x,y)"
   ]
  },
  {
   "cell_type": "code",
   "execution_count": 54,
   "metadata": {},
   "outputs": [
    {
     "data": {
      "image/png": "[encoded data removed]",
      "text/plain": [
       "<Figure size 432x288 with 1 Axes>"
      ]
     },
     "metadata": {},
     "output_type": "display_data"
    }
   ],
   "source": [
    "import matplotlib.pyplot as plt\n",
    "x = [1,2,3,4]\n",
    "y = [2,3,4,5]\n",
    "plt.plot(x,y)\n",
    "plt.show()"
   ]
  },
  {
   "cell_type": "markdown",
   "metadata": {},
   "source": [
    "#### Bar Chart :\n",
    "A bar chart is generally used to present relative quantities for multiple categories. X-axis represents categories and y-axis represents quantity in each category.\n",
    "\n",
    "bar( ) function is used to plot bar chart - plt.bar(x,y)\n"
   ]
  },
  {
   "cell_type": "code",
   "execution_count": 57,
   "metadata": {},
   "outputs": [
    {
     "data": {
      "image/png": "[encoded data removed]",
      "text/plain": [
       "<Figure size 432x288 with 1 Axes>"
      ]
     },
     "metadata": {},
     "output_type": "display_data"
    }
   ],
   "source": [
    "\n",
    "import matplotlib.pyplot as plt\n",
    "x = ['a','b','c']\n",
    "y = [10,2,12]\n",
    "plt.bar(x,y)\n",
    "plt.show()\n"
   ]
  },
  {
   "cell_type": "markdown",
   "metadata": {},
   "source": [
    "#### Histogram:\n",
    "A histogram plot is generally used to summarize the distribution of a data sample. X-axis represents discrete intervals and y-axis represents frequency. \n",
    "It is similar to bar chart but the x-axis has intervals instead of categories. hist( ) function is used to plot histogram."
   ]
  },
  {
   "cell_type": "code",
   "execution_count": 60,
   "metadata": {},
   "outputs": [
    {
     "data": {
      "image/png": "[encoded data removed]",
      "text/plain": [
       "<Figure size 432x288 with 1 Axes>"
      ]
     },
     "metadata": {},
     "output_type": "display_data"
    }
   ],
   "source": [
    "import matplotlib.pyplot as plt\n",
    "\n",
    "y = [1,1,2,3,1,2,3,1,2,3]\n",
    "plt.hist(y,bins=3) \t#bins parameter defines interval size\n",
    "plt.show()"
   ]
  },
  {
   "cell_type": "markdown",
   "metadata": {},
   "source": [
    "### Decision Tree Model\n",
    "A decision tree is a decision support tool that uses a tree-like graph or model of decisions and their outcomes. The decision tree can be linearized into decision rules, where the outcome is the contents of the leaf node, and the conditions along the path form a conjunction in the if clause. In general, the rules have the form:\n",
    "\n",
    "$if \\quad condition1 \\quad and \\quad condition2 \\quad and \\quad condition3 \\quad then \\quad outcome$\n",
    "\n",
    "Each node in the tree is a decisions/tests. Each path from the tree root to a leaf corresponds to a conjunction of attribute decisions/tests. The tree itself corresponds to a disjunction of these conjunctions.\n",
    "\n",
    "#### Growing a Decision Tree\n",
    "Top-down: Which attribute shoud ne the root?\n",
    "\n",
    "We construct a tree from the top down starting with the question: which attribute should be tested at the root of the tree? That is, which attribute best splits/sperates the labled training data.\n",
    "\n",
    "Then build subtrees recursively, asking the same question on the remaining attributes.\n",
    "\n",
    "### Information gain\n",
    "Heuristic: choose the attribute that produces the “purest” nodes. That is, the most homogeneous splits. A popular impurity criterion is information gain. Information gain increases with the average purity of the subsets. The idea is to choose the attribute that gives greatest information gain as the root of the tree.\n",
    "\n",
    "### Entropy\n",
    "The notion of using entropy as a measure of change in system state and dynamics comes both from statistical physics and from information theory). In statistical physics, entropy is a measure of disorder and uncertainty in a random variable; the higher the entropy, the greater the disorder. [(Gray,1990), (Behara et al., 1973), (Yeung,2002) ] In the statistical physics context, the term usually refers to Gibbs entropy #Gibbs_Entropy_Formula), which measures the macroscopic state of the system as defined by a distribution of atoms and molecules in a thermodynamic system. Gibbs entropy is a measure of the disorder in the arrangements of its particles. As the position of a particle becomes less predictable, the entropy increases. For a classical system (i.e., a collection of classical particles) with a discrete set of microstates, if $E_i$ is the energy of microstate $i$, and $p_i$ is the probability that it occurs during the system's fluctuations, then the entropy of the system is\n",
    "\n",
    "$$\n",
    "S = -k_\\text{B}\\,\\sum_i p_i \\ln \\,p_i\n",
    "$$\n",
    "The quantity $k_\\text{B}$ is a physical constant known as Boltzmann's constant, which, like the entropy, has units of heat capacity. The logarithm is dimensionless.\n",
    "\n",
    "In information theory, entropy is also a measure of the uncertainty in a random variable. [(Cover & Thomas, 1991),(Emmert-Streib & Dehmer, 2009)] In this context, however, the term usually refers to the Shannon entropy), which quantifies the expected value of the information contained in a message (or the expected value of the information of the probability distribution). The concept was introduced by Claude E. Shannon in his 1948 paper \"A Mathematical Theory of Communication.\" [(Shannon, 1948)] Shannon entropy establishes the limits to possible data compression and channel capacity. That is, the entropy gives a lower bound for the efficiency of an encoding scheme (in other words, a lower bound on the possible compression of a data stream). Typically this is expressed in the number of ‘bits’ or ‘nats’ that are required to encode a given message. Given the probability of each of n events, the information required to predict an event is the distribution’s entropy. Low entropy means the system is very ordered, that is, very predictable. High entropy means the system is mixed, that is, very un predictable; a lot of information is needed for prediction.\n",
    "\n",
    "The Shannon entropy can explicitly be written as\n",
    "\n",
    "$$\n",
    "E(X) = \\sum_{i} {\\mathrm{P}(x_i)\\,\\mathrm{I}(x_i)} = -\\sum_{i} {\\mathrm{P}(x_i) \\log_b \\mathrm{P}(x_i)},\n",
    "$$\n",
    "where b is the base of the logarithm used. Common values of b are 2, Euler's number e, and 10, and the unit of entropy is shannon for b = 2, nat for b = e, and hartley for b = 10.When b = 2, the units of entropy are also commonly referred to as bits.\n",
    "\n",
    "The Shannon entropy is by far the most common information-theoretic measure there are others. Other information-theoretic measures include: plog,Rényi entropy, Hartley entropy, collision entropy, min-entropy, Kullback-Leibler divergence and the information dimension."
   ]
  },
  {
   "cell_type": "markdown",
   "metadata": {},
   "source": [
    "## ID3 algorithm\n",
    "This idea of iteratively finding the attribute with the most information gain to find a root in decision tree learning is called the ID3 <b> (Iterative Dichotomiser 3) </b> algorithm. It was invented by <b> Ross Quinlan. </b> It is a simple algorithm once one understands the concept of entropy and information gain.\n",
    "\n",
    "1. Calculate the entropy of every attribute using the data set S, using the Shannon entropy.\n",
    "2. Split the set S into subsets using the attribute for which entropy is minimum (or, equivalently, information gain 3. is maximum)\n",
    "4. Make the decision tree (or sub-tree) root node that attribute.\n",
    "5. Recur on subsets using remaining attributes.\n"
   ]
  },
  {
   "cell_type": "code",
   "execution_count": null,
   "metadata": {},
   "outputs": [],
   "source": []
  }
 ],
 "metadata": {
  "kernelspec": {
   "display_name": "Python 3",
   "language": "python",
   "name": "python3"
  },
  "language_info": {
   "codemirror_mode": {
    "name": "ipython",
    "version": 3
   },
   "file_extension": ".py",
   "mimetype": "text/x-python",
   "name": "python",
   "nbconvert_exporter": "python",
   "pygments_lexer": "ipython3",
   "version": "3.6.5"
  }
 },
 "nbformat": 4,
 "nbformat_minor": 2
}
